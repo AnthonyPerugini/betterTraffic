{
 "cells": [
  {
   "cell_type": "code",
   "execution_count": 17,
   "id": "cd88dd3a",
   "metadata": {},
   "outputs": [],
   "source": [
    "class Person(object):\n",
    "    \n",
    "    def __init__(self, uuid, velocity=0, time_created=0):\n",
    "        self.uuid = uuid\n",
    "        self.velocity = velocity # probably won't use this until v2\n",
    "        self.time_created = time_created\n",
    "        \n",
    "    @property    \n",
    "    def anger(self, cur_time):\n",
    "        time_diff = cur_time - self.time_created\n",
    "        return time_diff ** 2\n",
    "        \n",
    "# class Intersection():\n",
    "    \n",
    "#     def __init__(self):\n",
    "#         self.groups = {}\n",
    "#         self.uuid_generator = self.generate_uuid()\n",
    "        \n",
    "#     def generate_uuid(self):\n",
    "#         i = 0\n",
    "#         while True:\n",
    "#             yield i\n",
    "#             i += 1\n",
    "        \n",
    "#     def add_person_to_group(self, person, group):\n",
    "#         if not self.groups[group]:\n",
    "#             self.groups[group] = {}\n",
    "#         else:\n",
    "#             self.groups[group][person.uuid] = person"
   ]
  },
  {
   "cell_type": "code",
   "execution_count": 18,
   "id": "fcaf853b",
   "metadata": {},
   "outputs": [
    {
     "ename": "TypeError",
     "evalue": "anger() missing 1 required positional argument: 'cur_time'",
     "output_type": "error",
     "traceback": [
      "\u001b[0;31m---------------------------------------------------------------------------\u001b[0m",
      "\u001b[0;31mTypeError\u001b[0m                                 Traceback (most recent call last)",
      "Input \u001b[0;32mIn [18]\u001b[0m, in \u001b[0;36m<cell line: 2>\u001b[0;34m()\u001b[0m\n\u001b[1;32m      1\u001b[0m p \u001b[38;5;241m=\u001b[39m Person(\u001b[38;5;241m0\u001b[39m)\n\u001b[0;32m----> 2\u001b[0m \u001b[43mp\u001b[49m\u001b[38;5;241;43m.\u001b[39;49m\u001b[43manger\u001b[49m\n",
      "\u001b[0;31mTypeError\u001b[0m: anger() missing 1 required positional argument: 'cur_time'"
     ]
    }
   ],
   "source": [
    "p = Person(0)\n",
    "p.anger"
   ]
  },
  {
   "cell_type": "code",
   "execution_count": 27,
   "id": "ffabf67a",
   "metadata": {},
   "outputs": [],
   "source": [
    "def generate_uuid():\n",
    "    i = 0\n",
    "    while i < 100:\n",
    "        yield i\n",
    "        i += 1\n",
    "        if i == 99:\n",
    "            i = 1"
   ]
  },
  {
   "cell_type": "code",
   "execution_count": 28,
   "id": "8e35aece",
   "metadata": {
    "scrolled": true
   },
   "outputs": [],
   "source": [
    "g = generate_uuid()\n"
   ]
  },
  {
   "cell_type": "code",
   "execution_count": 30,
   "id": "f615a7f3",
   "metadata": {},
   "outputs": [
    {
     "name": "stdout",
     "output_type": "stream",
     "text": [
      "1\n"
     ]
    }
   ],
   "source": [
    "print(next(g))"
   ]
  },
  {
   "cell_type": "code",
   "execution_count": 22,
   "id": "501fa394",
   "metadata": {},
   "outputs": [],
   "source": [
    "from collections import deque\n",
    "\n",
    "class Intersection:\n",
    "    \n",
    "    def __init__(self, num_groups, active_group=0, swap_threshold=5, ticks=0):\n",
    "        self.groups = [deque() for _ in range(num_groups)]\n",
    "        self.active_group = active_group\n",
    "        self.last_swap = 0\n",
    "        self.swap_threshold = swap_threshold\n",
    "        self.ticks = ticks\n",
    "        \n",
    "    def add_group(self):\n",
    "        self.groups.append(deque())\n",
    "        \n",
    "    def add_person_to_group(self, person, group):\n",
    "        self.groups[group].appendleft(person)\n",
    "    \n",
    "    def remove_next_from_group(self, group):\n",
    "        if self.group[group]:\n",
    "            return self.groups[group].pop()\n",
    "        else:\n",
    "            return None\n",
    "        \n",
    "    def get_angriest_group(self):\n",
    "        max_anger = 0\n",
    "        max_anger_group = None\n",
    "        for i, group in enumerate(self.groups):\n",
    "            anger = sum([person.anger for person in group])\n",
    "            max_anger = max(max_anger, anger)\n",
    "            if anger == max_anger:\n",
    "                max_anger_group = i\n",
    "        return max_anger_group\n",
    "    \n",
    "    def can_swap(self, t):\n",
    "        # only allow swaps to occur if its been longer than the swap_threshold value\n",
    "        return (t - self.last_swap) >= self.swap_threshold\n",
    "    \n",
    "    \n",
    "    def swap_active_group(self, new_group):\n",
    "        self.active_group = new_group\n",
    "        self.last_swap = self.ticks\n",
    "        \n",
    "    def run(self):\n",
    "        while True:\n",
    "            # per tick\n",
    "            # generate_new_entity()\n",
    "            \n",
    "            \n",
    "            # per 2 tick\n",
    "            \n",
    "            \n",
    "            # per 3 tick\n",
    "            \n",
    "            \n",
    "            \n",
    "            self.ticks += 1\n",
    "            "
   ]
  },
  {
   "cell_type": "code",
   "execution_count": 106,
   "id": "84db41e8",
   "metadata": {},
   "outputs": [],
   "source": [
    "class PersonGenerator:\n",
    "    \n",
    "    def __init__(self):\n",
    "        self.generator = generate_uuid()\n",
    "    \n",
    "    def create_person(self, uuids):\n",
    "        \n",
    "        uuid = None\n",
    "        while uuid in uuids or uuid is None: \n",
    "            uuid = next(self.generator)\n",
    "        return Person(uuid)\n",
    "        \n",
    "    def generate_uuid():\n",
    "        i = 0\n",
    "        while i < 1000:\n",
    "            yield i\n",
    "            i += 1\n",
    "            if i == 999:\n",
    "                i = 0"
   ]
  },
  {
   "cell_type": "code",
   "execution_count": 38,
   "id": "7c2869a1",
   "metadata": {},
   "outputs": [
    {
     "ename": "AttributeError",
     "evalue": "'datetime.datetime' object has no attribute 'total_seconds'",
     "output_type": "error",
     "traceback": [
      "\u001b[0;31m---------------------------------------------------------------------------\u001b[0m",
      "\u001b[0;31mAttributeError\u001b[0m                            Traceback (most recent call last)",
      "Input \u001b[0;32mIn [38]\u001b[0m, in \u001b[0;36m<cell line: 4>\u001b[0;34m()\u001b[0m\n\u001b[1;32m      1\u001b[0m \u001b[38;5;28;01mfrom\u001b[39;00m \u001b[38;5;21;01mdatetime\u001b[39;00m \u001b[38;5;28;01mimport\u001b[39;00m datetime\n\u001b[1;32m      2\u001b[0m \u001b[38;5;28;01mfrom\u001b[39;00m \u001b[38;5;21;01mtime\u001b[39;00m \u001b[38;5;28;01mimport\u001b[39;00m sleep\n\u001b[0;32m----> 4\u001b[0m start \u001b[38;5;241m=\u001b[39m \u001b[43mdatetime\u001b[49m\u001b[38;5;241;43m.\u001b[39;49m\u001b[43mnow\u001b[49m\u001b[43m(\u001b[49m\u001b[43m)\u001b[49m\u001b[38;5;241;43m.\u001b[39;49m\u001b[43mtotal_seconds\u001b[49m()\n\u001b[1;32m      5\u001b[0m sleep(\u001b[38;5;241m2\u001b[39m)\n\u001b[1;32m      6\u001b[0m diff \u001b[38;5;241m=\u001b[39m datetime\u001b[38;5;241m.\u001b[39mnow()\u001b[38;5;241m.\u001b[39mtotal_seconds() \u001b[38;5;241m-\u001b[39m start\n",
      "\u001b[0;31mAttributeError\u001b[0m: 'datetime.datetime' object has no attribute 'total_seconds'"
     ]
    }
   ],
   "source": [
    "from datetime import datetime\n",
    "from time import sleep\n",
    "\n",
    "start = datetime.now().total_seconds()\n",
    "sleep(2)\n",
    "diff = datetime.now().total_seconds() - start\n",
    "print(diff)"
   ]
  }
 ],
 "metadata": {
  "kernelspec": {
   "display_name": "Python 3 (ipykernel)",
   "language": "python",
   "name": "python3"
  },
  "language_info": {
   "codemirror_mode": {
    "name": "ipython",
    "version": 3
   },
   "file_extension": ".py",
   "mimetype": "text/x-python",
   "name": "python",
   "nbconvert_exporter": "python",
   "pygments_lexer": "ipython3",
   "version": "3.9.4"
  }
 },
 "nbformat": 4,
 "nbformat_minor": 5
}
