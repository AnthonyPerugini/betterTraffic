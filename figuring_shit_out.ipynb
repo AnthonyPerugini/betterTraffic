{
 "cells": [
  {
   "cell_type": "code",
   "execution_count": 90,
   "id": "cd88dd3a",
   "metadata": {},
   "outputs": [],
   "source": [
    "from time import perf_counter\n",
    "from datetime import datetime\n",
    "\n",
    "class Person(object):\n",
    "    \n",
    "    def __init__(self, uuid, velocity=0, anger=0):\n",
    "        self.uuid = uuid\n",
    "        self.velocity = velocity # probably won't use this until v2\n",
    "        self.anger = anger\n",
    "        self.created_at = datetime.now()\n",
    "        \n",
    "    def get_anger_score(self):\n",
    "        time_diff = datetime.now() - self.created_at\n",
    "        return time_diff ** 2\n",
    "        \n",
    "# class Intersection():\n",
    "    \n",
    "#     def __init__(self):\n",
    "#         self.groups = {}\n",
    "#         self.uuid_generator = self.generate_uuid()\n",
    "        \n",
    "#     def generate_uuid(self):\n",
    "#         i = 0\n",
    "#         while True:\n",
    "#             yield i\n",
    "#             i += 1\n",
    "        \n",
    "#     def add_person_to_group(self, person, group):\n",
    "#         if not self.groups[group]:\n",
    "#             self.groups[group] = {}\n",
    "#         else:\n",
    "#             self.groups[group][person.uuid] = person"
   ]
  },
  {
   "cell_type": "code",
   "execution_count": 44,
   "id": "54a5a975",
   "metadata": {},
   "outputs": [],
   "source": [
    "p = Person(1, 5)\n",
    "\n",
    "i = Intersection()"
   ]
  },
  {
   "cell_type": "code",
   "execution_count": 58,
   "id": "8d41ad17",
   "metadata": {},
   "outputs": [
    {
     "data": {
      "text/plain": [
       "0"
      ]
     },
     "execution_count": 58,
     "metadata": {},
     "output_type": "execute_result"
    }
   ],
   "source": [
    "next(i.uuid_generator())"
   ]
  },
  {
   "cell_type": "code",
   "execution_count": 27,
   "id": "ffabf67a",
   "metadata": {},
   "outputs": [],
   "source": [
    "def generate_uuid():\n",
    "    i = 0\n",
    "    while i < 100:\n",
    "        yield i\n",
    "        i += 1\n",
    "        if i == 99:\n",
    "            i = 1"
   ]
  },
  {
   "cell_type": "code",
   "execution_count": 28,
   "id": "8e35aece",
   "metadata": {
    "scrolled": true
   },
   "outputs": [],
   "source": [
    "g = generate_uuid()\n"
   ]
  },
  {
   "cell_type": "code",
   "execution_count": 30,
   "id": "6157f682",
   "metadata": {},
   "outputs": [
    {
     "name": "stdout",
     "output_type": "stream",
     "text": [
      "1\n"
     ]
    }
   ],
   "source": [
    "print(next(g))"
   ]
  },
  {
   "cell_type": "code",
   "execution_count": 74,
   "id": "24188105",
   "metadata": {},
   "outputs": [],
   "source": [
    "from time import sleep\n",
    "from datetime import datetime\n",
    "from collections import deque\n",
    "\n",
    "class Intersection:\n",
    "    \n",
    "    def __init__(self, num_groups, active_group=0, swap_threshold=5):\n",
    "        assert type(num_groups) == int and num_groups >= 2, \\\n",
    "               'Bad Input for num_groups, must be a number greater than 1'\n",
    "        self.groups = [deque() for _ in range(num_groups)]\n",
    "        self.active_group = active_group\n",
    "        self.last_swap = datetime.now()\n",
    "        self.swap_threshold = swap_threshold\n",
    "        \n",
    "    def add_group(self):\n",
    "        self.groups.append(deque())\n",
    "        \n",
    "        \n",
    "        \n",
    "    def get_angriest_group(self):\n",
    "        max_anger = 0\n",
    "        max_anger_group = None\n",
    "        for i, group in enumerate(self.groups):\n",
    "            anger = sum([person.anger for person in group])\n",
    "            if anger >= max_anger:\n",
    "                max_anger = anger\n",
    "                max_anger_group = i\n",
    "        return max_anger_group\n",
    "    \n",
    "    def can_swap(self):\n",
    "        # only allow swaps to occur if itts been longer than the minimum swap_threshold value\n",
    "        diff = (datetime.now() - self.last_swap).total_seconds()\n",
    "        return True if diff > self.swap_threshold else False \n",
    "    \n",
    "    \n",
    "    def swap_active_group(self, new_group):\n",
    "        print(f'Yellow light for group {self.active_group}')\n",
    "        sleep(1)\n",
    "        print(f'Red light for group {self.active_group}')\n",
    "        sleep(1)\n",
    "        self.active_group = new_group\n",
    "        print(f'Green light for group {self.active_group}')\n",
    "        \n",
    "    def run(self):\n",
    "        while True:\n",
    "            pass\n",
    "        print('done')\n",
    "            "
   ]
  },
  {
   "cell_type": "code",
   "execution_count": 80,
   "id": "a90aab5e",
   "metadata": {},
   "outputs": [
    {
     "data": {
      "text/plain": [
       "[deque([]), deque([]), deque([])]"
      ]
     },
     "execution_count": 80,
     "metadata": {},
     "output_type": "execute_result"
    }
   ],
   "source": [
    "i = Intersection(3)\n",
    "i.groups"
   ]
  },
  {
   "cell_type": "code",
   "execution_count": 81,
   "id": "1298ab95",
   "metadata": {},
   "outputs": [
    {
     "data": {
      "text/plain": [
       "[deque([]), deque([]), deque([]), deque([]), deque([])]"
      ]
     },
     "execution_count": 81,
     "metadata": {},
     "output_type": "execute_result"
    }
   ],
   "source": [
    "i.add_group()\n",
    "i.add_group()\n",
    "i.groups"
   ]
  },
  {
   "cell_type": "code",
   "execution_count": 106,
   "id": "6e696991",
   "metadata": {},
   "outputs": [],
   "source": [
    "class PersonGenerator:\n",
    "    \n",
    "    def __init__(self):\n",
    "        self.generator = generate_uuid()\n",
    "    \n",
    "    def create_person(self, uuids):\n",
    "        \n",
    "        uuid = None\n",
    "        while uuid in uuids or uuid is None: \n",
    "            uuid = next(self.generator)\n",
    "        return Person(uuid)\n",
    "        \n",
    "    def generate_uuid():\n",
    "        i = 0\n",
    "        while i < 1000:\n",
    "            yield i\n",
    "            i += 1\n",
    "            if i == 999:\n",
    "                i = 0"
   ]
  },
  {
   "cell_type": "code",
   "execution_count": 38,
   "id": "ad3a83e9",
   "metadata": {},
   "outputs": [
    {
     "ename": "AttributeError",
     "evalue": "'datetime.datetime' object has no attribute 'total_seconds'",
     "output_type": "error",
     "traceback": [
      "\u001b[0;31m---------------------------------------------------------------------------\u001b[0m",
      "\u001b[0;31mAttributeError\u001b[0m                            Traceback (most recent call last)",
      "Input \u001b[0;32mIn [38]\u001b[0m, in \u001b[0;36m<cell line: 4>\u001b[0;34m()\u001b[0m\n\u001b[1;32m      1\u001b[0m \u001b[38;5;28;01mfrom\u001b[39;00m \u001b[38;5;21;01mdatetime\u001b[39;00m \u001b[38;5;28;01mimport\u001b[39;00m datetime\n\u001b[1;32m      2\u001b[0m \u001b[38;5;28;01mfrom\u001b[39;00m \u001b[38;5;21;01mtime\u001b[39;00m \u001b[38;5;28;01mimport\u001b[39;00m sleep\n\u001b[0;32m----> 4\u001b[0m start \u001b[38;5;241m=\u001b[39m \u001b[43mdatetime\u001b[49m\u001b[38;5;241;43m.\u001b[39;49m\u001b[43mnow\u001b[49m\u001b[43m(\u001b[49m\u001b[43m)\u001b[49m\u001b[38;5;241;43m.\u001b[39;49m\u001b[43mtotal_seconds\u001b[49m()\n\u001b[1;32m      5\u001b[0m sleep(\u001b[38;5;241m2\u001b[39m)\n\u001b[1;32m      6\u001b[0m diff \u001b[38;5;241m=\u001b[39m datetime\u001b[38;5;241m.\u001b[39mnow()\u001b[38;5;241m.\u001b[39mtotal_seconds() \u001b[38;5;241m-\u001b[39m start\n",
      "\u001b[0;31mAttributeError\u001b[0m: 'datetime.datetime' object has no attribute 'total_seconds'"
     ]
    }
   ],
   "source": [
    "from datetime import datetime\n",
    "from time import sleep\n",
    "\n",
    "start = datetime.now().total_seconds()\n",
    "sleep(2)\n",
    "diff = datetime.now().total_seconds() - start\n",
    "print(diff)"
   ]
  },
  {
   "cell_type": "code",
   "execution_count": 46,
   "id": "46c33f43",
   "metadata": {},
   "outputs": [
    {
     "data": {
      "text/plain": [
       "1"
      ]
     },
     "execution_count": 46,
     "metadata": {},
     "output_type": "execute_result"
    }
   ],
   "source": [
    "from collections import deque\n",
    "\n",
    "d = deque()\n",
    "d.appendleft(1)\n",
    "d.appendleft(2)\n",
    "d.appendleft(3)\n",
    "d.pop()"
   ]
  },
  {
   "cell_type": "code",
   "execution_count": null,
   "id": "0ef427c0",
   "metadata": {},
   "outputs": [],
   "source": []
  }
 ],
 "metadata": {
  "kernelspec": {
   "display_name": "Python 3 (ipykernel)",
   "language": "python",
   "name": "python3"
  },
  "language_info": {
   "codemirror_mode": {
    "name": "ipython",
    "version": 3
   },
   "file_extension": ".py",
   "mimetype": "text/x-python",
   "name": "python",
   "nbconvert_exporter": "python",
   "pygments_lexer": "ipython3",
   "version": "3.9.4"
  }
 },
 "nbformat": 4,
 "nbformat_minor": 5
}
