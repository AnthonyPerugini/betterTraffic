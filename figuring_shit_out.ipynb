{
 "cells": [
  {
   "cell_type": "code",
   "execution_count": 43,
   "id": "cd88dd3a",
   "metadata": {},
   "outputs": [],
   "source": [
    "from datetime import datetime\n",
    "\n",
    "class Person(object):\n",
    "    \n",
    "    def __init__(self, uuid, group, velocity=0, anger=0):\n",
    "        self.uuid = uuid\n",
    "        self.group = group\n",
    "        self.velocity = velocity\n",
    "        self.anger = anger\n",
    "        self.created_at = datetime.now()\n",
    "        \n",
    "        \n",
    "class Intersection():\n",
    "    \n",
    "    def __init__(self):\n",
    "        self.groups = {}\n",
    "        self.uuid_generator = self.generate_uuid()\n",
    "        \n",
    "    def generate_uuid(self):\n",
    "        i = 0\n",
    "        while True:\n",
    "            yield i\n",
    "            i += 1\n",
    "        \n",
    "    def add_person_to_group(self, person, group):\n",
    "        if not self.groups[group]:\n",
    "            self.groups[group] = {}\n",
    "        else:\n",
    "            self.groups[group][person.uuid] = person"
   ]
  },
  {
   "cell_type": "code",
   "execution_count": 44,
   "id": "54a5a975",
   "metadata": {},
   "outputs": [],
   "source": [
    "p = Person(1, 5)\n",
    "\n",
    "i = Intersection()"
   ]
  },
  {
   "cell_type": "code",
   "execution_count": 58,
   "id": "8d41ad17",
   "metadata": {},
   "outputs": [
    {
     "data": {
      "text/plain": [
       "0"
      ]
     },
     "execution_count": 58,
     "metadata": {},
     "output_type": "execute_result"
    }
   ],
   "source": [
    "next(i.uuid_generator())"
   ]
  },
  {
   "cell_type": "code",
   "execution_count": 63,
   "id": "ffabf67a",
   "metadata": {},
   "outputs": [],
   "source": [
    "def generate_uuid():\n",
    "    i = 0\n",
    "    while True:\n",
    "        yield i\n",
    "        i += 1"
   ]
  },
  {
   "cell_type": "code",
   "execution_count": 69,
   "id": "8e35aece",
   "metadata": {
    "scrolled": true
   },
   "outputs": [
    {
     "data": {
      "text/plain": [
       "<generator object generate_uuid at 0x7fc4e2729b30>"
      ]
     },
     "execution_count": 69,
     "metadata": {},
     "output_type": "execute_result"
    }
   ],
   "source": [
    "g = generate_uuid\n",
    "g()"
   ]
  },
  {
   "cell_type": "code",
   "execution_count": 9,
   "id": "547c60a6",
   "metadata": {},
   "outputs": [],
   "source": [
    "def empty():\n",
    "    yield from (0)"
   ]
  },
  {
   "cell_type": "code",
   "execution_count": 10,
   "id": "fd75e211",
   "metadata": {},
   "outputs": [
    {
     "ename": "TypeError",
     "evalue": "'int' object is not iterable",
     "output_type": "error",
     "traceback": [
      "\u001b[0;31m---------------------------------------------------------------------------\u001b[0m",
      "\u001b[0;31mTypeError\u001b[0m                                 Traceback (most recent call last)",
      "Input \u001b[0;32mIn [10]\u001b[0m, in \u001b[0;36m<cell line: 1>\u001b[0;34m()\u001b[0m\n\u001b[0;32m----> 1\u001b[0m \u001b[38;5;28;01mfor\u001b[39;00m i, _ \u001b[38;5;129;01min\u001b[39;00m \u001b[38;5;28menumerate\u001b[39m(empty()):\n\u001b[1;32m      2\u001b[0m     \u001b[38;5;28;01mif\u001b[39;00m i \u001b[38;5;241m==\u001b[39m \u001b[38;5;241m3\u001b[39m:\n\u001b[1;32m      3\u001b[0m         \u001b[38;5;28;01mbreak\u001b[39;00m\n",
      "Input \u001b[0;32mIn [9]\u001b[0m, in \u001b[0;36mempty\u001b[0;34m()\u001b[0m\n\u001b[1;32m      1\u001b[0m \u001b[38;5;28;01mdef\u001b[39;00m \u001b[38;5;21mempty\u001b[39m():\n\u001b[0;32m----> 2\u001b[0m     \u001b[38;5;28;01myield from\u001b[39;00m (\u001b[38;5;241m0\u001b[39m)\n",
      "\u001b[0;31mTypeError\u001b[0m: 'int' object is not iterable"
     ]
    }
   ],
   "source": [
    "for i, _ in enumerate(empty()):\n",
    "    if i == 3:\n",
    "        break\n",
    "    print(type(_))"
   ]
  },
  {
   "cell_type": "code",
   "execution_count": 6,
   "id": "a2f08b52",
   "metadata": {},
   "outputs": [
    {
     "data": {
      "text/plain": [
       "generator"
      ]
     },
     "execution_count": 6,
     "metadata": {},
     "output_type": "execute_result"
    }
   ],
   "source": [
    "type(empty())"
   ]
  },
  {
   "cell_type": "code",
   "execution_count": 7,
   "id": "f4ccfce2",
   "metadata": {},
   "outputs": [],
   "source": [
    "x = empty()"
   ]
  },
  {
   "cell_type": "code",
   "execution_count": 8,
   "id": "2c660d94",
   "metadata": {},
   "outputs": [],
   "source": [
    "for i in x:\n",
    "    print(i)"
   ]
  },
  {
   "cell_type": "code",
   "execution_count": null,
   "id": "d7c2bb8b",
   "metadata": {},
   "outputs": [],
   "source": []
  }
 ],
 "metadata": {
  "kernelspec": {
   "display_name": "Python 3 (ipykernel)",
   "language": "python",
   "name": "python3"
  },
  "language_info": {
   "codemirror_mode": {
    "name": "ipython",
    "version": 3
   },
   "file_extension": ".py",
   "mimetype": "text/x-python",
   "name": "python",
   "nbconvert_exporter": "python",
   "pygments_lexer": "ipython3",
   "version": "3.9.4"
  }
 },
 "nbformat": 4,
 "nbformat_minor": 5
}
